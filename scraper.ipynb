{
 "cells": [
  {
   "cell_type": "markdown",
   "metadata": {},
   "source": [
    "### imports"
   ]
  },
  {
   "cell_type": "code",
   "execution_count": 7,
   "metadata": {},
   "outputs": [],
   "source": [
    "import json\n",
    "import requests\n",
    "from bs4 import BeautifulSoup"
   ]
  },
  {
   "cell_type": "markdown",
   "metadata": {},
   "source": [
    "2. Sending HTTP request to access first page with opinions"
   ]
  },
  {
   "cell_type": "code",
   "execution_count": null,
   "metadata": {},
   "outputs": [],
   "source": [
    "url = \"https://www.ceneo.pl/84514582#tab=reviews\"\n",
    "response = requests.get(url)"
   ]
  },
  {
   "cell_type": "markdown",
   "metadata": {},
   "source": [
    "3.Checking the code of HTTP response"
   ]
  },
  {
   "cell_type": "code",
   "execution_count": null,
   "metadata": {},
   "outputs": [],
   "source": [
    "response.status_code"
   ]
  },
  {
   "cell_type": "markdown",
   "metadata": {},
   "source": [
    "4.Parse the HTML code of first page with opinions"
   ]
  },
  {
   "cell_type": "code",
   "execution_count": 9,
   "metadata": {},
   "outputs": [],
   "source": [
    "page_dom = BeautifulSoup( response.text, 'html.parser')\n"
   ]
  },
  {
   "cell_type": "markdown",
   "metadata": {},
   "source": [
    "5.Extract required data from parsed code"
   ]
  },
  {
   "cell_type": "code",
   "execution_count": null,
   "metadata": {},
   "outputs": [],
   "source": [
    "opinions = page_dom.select('div.js_product-review:not(.user-post--highlight)')\n",
    "for opinion in opinions:\n",
    "    opinion_id = opinion['data-entry-id']\n",
    "    author = opinion.select_one('span.user-post__author-name').get_text()\n",
    "    try:\n",
    "        reccommendation = opinion.select_one('span.user-post__author-recomendation > em').get_text()\n",
    "    except AttributeError: \n",
    "        reccommendation = None\n",
    "    stars = opinion.select_one('span.user-post__score-count').get_text()\n",
    "    content = opinion.select_one('div.user-post__text').get_text()\n",
    "    pros = [p.get_text()for p in opinion.select('div.review-feature__item--positive')]\n",
    "    cons = [c.get_text() for c in opinion.select('div.review-feature__item--negative')]\n",
    "    vote_yes = opinion.select_one('button.vote-yes')['data-total-vote']\n",
    "    vote_no = opinion.select_one('button.vote-no')['data-total-vote']\n",
    "    published = opinion.select_one('span.user-post__published > time:nth-child(1)')[\"datetime\"]\n",
    "    try:\n",
    "        purchased = opinion.select_one('span.user-post__published > time:nth-child(2)')[\"datetime\"]\n",
    "    except TypeError: \n",
    "        purchased = None\n",
    "    print(opinion_id, author, reccommendation, stars, content, pros, cons, vote_yes, vote_no, published, purchased, sep='\\n')"
   ]
  },
  {
   "cell_type": "markdown",
   "metadata": {},
   "source": [
    "6. If there are more pages, move to the next page and repeat steps 2-6 for it"
   ]
  },
  {
   "cell_type": "code",
   "execution_count": null,
   "metadata": {},
   "outputs": [],
   "source": [
    "try:\n",
    "    next_page = 'https://www.ceneo.pl' + page_dom.select_one('a.pagination__next')['href']\n",
    "except TypeError: \n",
    "    next_page = None"
   ]
  },
  {
   "cell_type": "code",
   "execution_count": 52,
   "metadata": {},
   "outputs": [],
   "source": [
    "next_page = \"https://www.ceneo.pl/84514582#tab=reviews\"\n",
    "all_opinions = {}\n",
    "while next_page:\n",
    "    response = requests.get(next_page)\n",
    "    if response.status_code == 200:\n",
    "        page_dom = BeautifulSoup( response.text, 'html.parser')\n",
    "        opinions = page_dom.select('div.js_product-review:not(.user-post--highlight)')\n",
    "        for opinion in opinions:\n",
    "            single_opinion = {}\n",
    "            single_opinion['opinion_id'] = opinion['data-entry-id']\n",
    "            single_opinion['author'] = opinion.select_one('span.user-post__author-name').get_text()\n",
    "            try:\n",
    "                single_opinion['reccommendation'] = opinion.select_one('span.user-post__author-recomendation > em').get_text()\n",
    "            except AttributeError: \n",
    "                single_opinion['reccommendation'] = None\n",
    "            single_opinion['stars'] = opinion.select_one('span.user-post__score-count').get_text()\n",
    "            single_opinion['content'] = opinion.select_one('div.user-post__text').get_text()\n",
    "            single_opinion['pros'] = [p.get_text()for p in opinion.select('div.review-feature__item--positive')]\n",
    "            single_opinion['cons'] = [c.get_text() for c in opinion.select('div.review-feature__item--negative')]\n",
    "            single_opinion['vote_yes'] = opinion.select_one('button.vote-yes')['data-total-vote']\n",
    "            single_opinion['vote_no'] = opinion.select_one('button.vote-no')['data-total-vote']\n",
    "            single_opinion['published'] = opinion.select_one('span.user-post__published > time:nth-child(1)')[\"datetime\"]\n",
    "            try:\n",
    "                single_opinion['purchased'] = opinion.select_one('span.user-post__published > time:nth-child(2)')[\"datetime\"]\n",
    "            except TypeError: \n",
    "                single_opinion['purchased'] = None\n",
    "            all_opinions.append(single_opinion)\n",
    "        try:\n",
    "            next_page = 'https://www.ceneo.pl' + page_dom.select_one('a.pagination__next')['href']\n",
    "        except TypeError: \n",
    "            next_page = None\n",
    "        "
   ]
  }
 ],
 "metadata": {
  "kernelspec": {
   "display_name": ".venv",
   "language": "python",
   "name": "python3"
  },
  "language_info": {
   "codemirror_mode": {
    "name": "ipython",
    "version": 3
   },
   "file_extension": ".py",
   "mimetype": "text/x-python",
   "name": "python",
   "nbconvert_exporter": "python",
   "pygments_lexer": "ipython3",
   "version": "3.11.4"
  }
 },
 "nbformat": 4,
 "nbformat_minor": 2
}
